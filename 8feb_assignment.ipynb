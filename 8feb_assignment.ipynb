{
 "cells": [
  {
   "cell_type": "markdown",
   "id": "83ba1bc4-5647-4e2c-9097-2ee14064fede",
   "metadata": {},
   "source": [
    "Q1. What is Abstraction in OOps? Explain with an example."
   ]
  },
  {
   "cell_type": "markdown",
   "id": "19e77a14-4d7a-4517-abe3-f752c922763b",
   "metadata": {},
   "source": [
    "Answer : Abstraction in python is defined as a process of handling complexity by hiding unnecessary information from the user. This is one of the core concepts of object-oriented programming (OOP) languages. "
   ]
  },
  {
   "cell_type": "code",
   "execution_count": 1,
   "id": "cb7a875b-fa23-4605-9a9c-bc9c3cad58ec",
   "metadata": {},
   "outputs": [],
   "source": [
    "##example \n",
    "\n",
    "import abc\n",
    "\n",
    "class pwskills :\n",
    "    \n",
    "    @abc.abstractmethod\n",
    "    def students_info(self) :\n",
    "        pass\n",
    "    \n",
    "    @abc.abstractmethod\n",
    "    def students_assignment(self) :\n",
    "        pass\n",
    "    \n",
    "    @abc.abstractmethod\n",
    "    def students_marks(self) :\n",
    "        pass"
   ]
  },
  {
   "cell_type": "code",
   "execution_count": 2,
   "id": "7acf416c-19b1-4420-881b-d502c21cfb9c",
   "metadata": {},
   "outputs": [],
   "source": [
    "class student_details(pwskills) :\n",
    "    \n",
    "    def student_info(self) :\n",
    "        return \"This is method for taking students information\"\n",
    "    \n",
    "    def students_assignment(self) :\n",
    "        return \"This is method for assignment details for particular student\""
   ]
  },
  {
   "cell_type": "code",
   "execution_count": 3,
   "id": "167fa0c3-1cd1-488c-93c2-20b811a12519",
   "metadata": {},
   "outputs": [],
   "source": [
    "class data_science_masters(pwskills) :\n",
    "    \n",
    "    def students_info(self) :\n",
    "        return \"This will return a student information for data science masters\"\n",
    "    \n",
    "    def students_assignment(self) :\n",
    "        return \"This will give you student assignment details for data science masters\""
   ]
  },
  {
   "cell_type": "code",
   "execution_count": 4,
   "id": "c9228f7e-1678-4ec2-a2bc-65725dd074d3",
   "metadata": {},
   "outputs": [
    {
     "data": {
      "text/plain": [
       "'This will return a student information for data science masters'"
      ]
     },
     "execution_count": 4,
     "metadata": {},
     "output_type": "execute_result"
    }
   ],
   "source": [
    "dsm = data_science_masters()\n",
    "dsm.students_info()"
   ]
  },
  {
   "cell_type": "code",
   "execution_count": 5,
   "id": "544efe56-646b-4277-b4d7-8d92772d5f1d",
   "metadata": {},
   "outputs": [
    {
     "data": {
      "text/plain": [
       "'This is method for taking students information'"
      ]
     },
     "execution_count": 5,
     "metadata": {},
     "output_type": "execute_result"
    }
   ],
   "source": [
    "sd = student_details()\n",
    "sd.student_info()"
   ]
  },
  {
   "cell_type": "markdown",
   "id": "5e2d6d70-f7bc-4242-a208-1069a402fb25",
   "metadata": {},
   "source": [
    "Q2. Differentiate between Abstraction and Encapsulation. Explain with an example."
   ]
  },
  {
   "cell_type": "markdown",
   "id": "752d0172-ec2a-414e-bdd2-c03ce3bfaf93",
   "metadata": {},
   "source": [
    "Answer : Abstraction is a design level process and it is used to reduce the complexity at the designing stage of a project. Encapsulation is an implementation level process, and it is used to provide privacy and maintain control over the transparency of data at the implementation stage of a project."
   ]
  },
  {
   "cell_type": "markdown",
   "id": "08dc365b-7ab4-4afd-b3c0-c1f9daeee982",
   "metadata": {},
   "source": [
    "Refer Q1. example as abstraction example "
   ]
  },
  {
   "cell_type": "code",
   "execution_count": 6,
   "id": "fe0f551f-47d6-46f1-9878-e9df75ba18bc",
   "metadata": {},
   "outputs": [],
   "source": [
    "## Example of encapsulation\n",
    "\n",
    "class school :\n",
    "    \n",
    "    def __init__(self,student_count,student_name) :\n",
    "        \n",
    "        self.__student_count = student_count\n",
    "        self.__student_name = student_name"
   ]
  },
  {
   "cell_type": "code",
   "execution_count": 7,
   "id": "afb76fbc-85a3-4715-b347-870b0daa8fb2",
   "metadata": {},
   "outputs": [],
   "source": [
    "s = school(72,\"digvijay\")"
   ]
  },
  {
   "cell_type": "code",
   "execution_count": 8,
   "id": "50128450-523f-45fa-a162-472c500bc086",
   "metadata": {},
   "outputs": [
    {
     "data": {
      "text/plain": [
       "72"
      ]
     },
     "execution_count": 8,
     "metadata": {},
     "output_type": "execute_result"
    }
   ],
   "source": [
    "s._school__student_count"
   ]
  },
  {
   "cell_type": "code",
   "execution_count": 9,
   "id": "0960957c-fcbb-49a8-938a-95e7179b1f77",
   "metadata": {},
   "outputs": [
    {
     "data": {
      "text/plain": [
       "'digvijay'"
      ]
     },
     "execution_count": 9,
     "metadata": {},
     "output_type": "execute_result"
    }
   ],
   "source": [
    "s._school__student_name"
   ]
  },
  {
   "cell_type": "markdown",
   "id": "44ac7918-b737-44f9-8ef7-604b0511b774",
   "metadata": {},
   "source": [
    "Q3. What is abc module in python? Why is it used?"
   ]
  },
  {
   "cell_type": "markdown",
   "id": "602a62d0-351b-4570-8d1c-4eab9a18d491",
   "metadata": {},
   "source": [
    "Answer : The main goal of the abstract base class is to provide a standardized way to test whether an object adheres to a given specification. It can also prevent any attempt to instantiate a subclass that doesn’t override a particular method in the superclass. And finally, using an abstract class, a class can derive identity from another class without any object inheritance."
   ]
  },
  {
   "cell_type": "markdown",
   "id": "b85b4d1b-21fc-4f0b-937d-5f2a31e45d74",
   "metadata": {},
   "source": [
    "Q4. How can we achieve data abstraction?"
   ]
  },
  {
   "cell_type": "markdown",
   "id": "98769b03-ada9-42a3-bd5a-23246250bf5b",
   "metadata": {},
   "source": [
    "Answer :\n",
    "step 1 : import abc\n",
    "step 2 : use @abc.(any function that you want to use) example : @abc.abstractmethod\n",
    "    "
   ]
  },
  {
   "cell_type": "markdown",
   "id": "f106eb3a-974d-44ba-bb12-81d7ec2005a3",
   "metadata": {},
   "source": [
    "Q5. Can we create an instance of an abstract class? Explain your answer."
   ]
  },
  {
   "cell_type": "markdown",
   "id": "6a7f6e18-8b39-485c-8d35-953ad0977521",
   "metadata": {},
   "source": [
    "Refer answer of Q1. for same"
   ]
  }
 ],
 "metadata": {
  "kernelspec": {
   "display_name": "Python 3 (ipykernel)",
   "language": "python",
   "name": "python3"
  },
  "language_info": {
   "codemirror_mode": {
    "name": "ipython",
    "version": 3
   },
   "file_extension": ".py",
   "mimetype": "text/x-python",
   "name": "python",
   "nbconvert_exporter": "python",
   "pygments_lexer": "ipython3",
   "version": "3.10.8"
  }
 },
 "nbformat": 4,
 "nbformat_minor": 5
}
